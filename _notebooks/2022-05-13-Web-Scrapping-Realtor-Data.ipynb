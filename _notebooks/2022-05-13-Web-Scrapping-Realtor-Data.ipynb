{
 "cells": [
  {
   "cell_type": "markdown",
   "id": "d4823d89",
   "metadata": {},
   "source": [
    "# Web Scrapping Real Estate Data\n"
   ]
  },
  {
   "cell_type": "markdown",
   "id": "a6be6301",
   "metadata": {},
   "source": [
    "## Goal of the notebook:\n",
    "To get data of houses being listed for sale on Realtor.com\n",
    "\n",
    "Future aim is to make predictions from the data"
   ]
  },
  {
   "cell_type": "markdown",
   "id": "e55e4bf4",
   "metadata": {},
   "source": [
    "## TO DO:\n",
    "\n",
    "1) Make proper markdowns in the notebooks\n",
    "\n",
    "2) Improve variable names and code structure\n",
    "\n",
    "3) Check whether data is accurate using regex or do it manually or visually   \n",
    "\n",
    "4) TRY stuff from the above links (see all)\n",
    "\n",
    "5) Follow a ML pipeline for prediction -- make a model\n",
    "\n",
    "6) Make a verdict \n",
    "\n",
    "7) Write a report\n",
    "\n",
    "8) Deploy the model (maybe using flask or django or some other way)\n",
    "\n"
   ]
  },
  {
   "cell_type": "markdown",
   "id": "29096383",
   "metadata": {},
   "source": [
    "### Sources Used and Unused:\n",
    "\n",
    "###### The links lead to tuorials of web scrapping (different methods) or searching using regex\n",
    "\n",
    "https://www.realtor.com/realestateandhomes-search/Palo-Alto_CA\n",
    "\n",
    "https://www.youtube.com/watch?v=RvCBzhhydNk\n",
    "\n",
    "https://medium.com/@raiyanquaium/how-to-web-scrape-using-beautiful-soup-in-python-without-running-into-http-error-403-554875e5abed#:~:text=This%20will%20result%20in%20a,security%20features%20to%20prevent%20bots.\n",
    "\n",
    "https://youtu.be/iESyyogOkY0\n",
    "https://www.geeksforgeeks.org/python-extract-words-from-given-string/\n",
    "https://medium.com/quantrium-tech/extracting-words-from-a-string-in-python-using-regex-dac4b385c1b8\n",
    "https://www.guru99.com/python-regular-expressions-complete-tutorial.html\n",
    "\n",
    "https://kanoki.org/2019/11/12/how-to-use-regex-in-pandas/\n",
    "\n",
    "https://youtu.be/Z7LEv7nHqqk\n",
    "\n",
    "https://youtu.be/a3Cuq2csLWk\n",
    "\n",
    "https://youtu.be/pzptMqULnyE\n",
    "\n",
    "https://youtu.be/dRcvJRmqFHQ\n",
    "\n",
    "https://youtu.be/FJLpUsRFT00\n",
    "\n",
    "https://www.youtube.com/watch?v=CwMei_VhHHQ\n"
   ]
  },
  {
   "cell_type": "markdown",
   "id": "11495ab7",
   "metadata": {},
   "source": [
    "### Web Scrapping Code-"
   ]
  },
  {
   "cell_type": "code",
   "execution_count": 1,
   "id": "a00c754f",
   "metadata": {},
   "outputs": [],
   "source": [
    "from bs4 import BeautifulSoup # web scrapping package\n",
    "from urllib.request import Request, urlopen # since we will send a request to a web page and we will get a response back (some html)\n",
    "import requests\n",
    "from csv import writer "
   ]
  },
  {
   "cell_type": "code",
   "execution_count": 2,
   "id": "741348d9",
   "metadata": {},
   "outputs": [],
   "source": [
    "url = \"https://www.realtor.com/realestateandhomes-search/Palo-Alto_CA\"\n"
   ]
  },
  {
   "cell_type": "code",
   "execution_count": 3,
   "id": "c5a71e35",
   "metadata": {},
   "outputs": [],
   "source": [
    "requests = Request(url, headers={'User-Agent':'Mozilla/5.0'})\n",
    "#print(requests)"
   ]
  },
  {
   "cell_type": "code",
   "execution_count": 4,
   "id": "bf6daf75",
   "metadata": {},
   "outputs": [],
   "source": [
    "webpage = urlopen(requests).read()\n",
    "#print(webpage)"
   ]
  },
  {
   "cell_type": "code",
   "execution_count": 5,
   "id": "12003eaf",
   "metadata": {},
   "outputs": [],
   "source": [
    "# creates a beautiful soup object\n",
    "soup = BeautifulSoup(webpage, \"html.parser\")\n",
    "#print(soup)"
   ]
  },
  {
   "cell_type": "code",
   "execution_count": 6,
   "id": "328854a0",
   "metadata": {},
   "outputs": [],
   "source": [
    "# we find content in the soup on the basis of the html tags and the class\n",
    "# the second argument is \"class_\" instead of just \"class\" beacuse we are dealing with css\n",
    "find_price_content = soup.find_all(\"span\", class_=\"rui__x3geed-0 kitA-dS\") \n",
    "find_address_content = soup.find_all(\"div\", class_=\"jsx-1489967104 address ellipsis srp-page-address srp-address-redesign\")\n",
    "find_space_content = soup.find_all(\"ul\", class_=\"jsx-946479843 property-meta list-unstyled property-meta-srpPage\")#joint no space\n"
   ]
  },
  {
   "cell_type": "code",
   "execution_count": 7,
   "id": "3122c1f9",
   "metadata": {},
   "outputs": [],
   "source": [
    "price = []\n",
    "for i in find_price_content:\n",
    "    price.append(i.text)\n",
    "\n",
    "address = []\n",
    "for i in find_address_content:\n",
    "    address.append(i.text)\n",
    "\n",
    "space = []\n",
    "for i in find_space_content:\n",
    "    space.append(i.text)"
   ]
  },
  {
   "cell_type": "code",
   "execution_count": 8,
   "id": "196590ca",
   "metadata": {},
   "outputs": [
    {
     "name": "stdout",
     "output_type": "stream",
     "text": [
      "['2bed1bath660sqft2,325sqft lot', '2bed1bath865sqft875sqft lot', '2bed2.5bath1,230sqft630sqft lot', '2bed2bath1,440sqft', '3bed1bath1,004sqft7,748sqft lot', '2bed3bath1,490sqft961sqft lot', '2bed1bath943sqft', '5bed5bath4,003sqft9,523sqft lot', '4bed2bath1,554sqft6,292sqft lot', '2bed2.5bath1,295sqft630sqft lot', '4bed2bath2,066sqft5,849sqft lot', '1bed1bath885sqft', '3bed2bath1,710sqft9,400sqft lot', '2bed2.5bath1,468sqft', '2bed1bath1,091sqft', '4bed3.5+bath4,540sqft1.02acre lot', '5bed4.5+bath5,042sqft8,755sqft lot', '3bed2bath1,583sqft6,500sqft lot', '1bed1bath876sqft', '2bed1bath946sqft', '2bed2bath773sqft2,000sqft lot', '6bed5bath3,456sqft7,670sqft lot', '5bed4bath2,871sqft5,000sqft lot', '5bed4bath3,072sqft7,605sqft lot', '6bed5.5bath3,853sqft6,382sqft lot', '4bed2bath1,639sqft7,084sqft lot', '4bed2bath1,664sqft6,504sqft lot', '3bed2.5bath1,494sqft', '4bed2.5bath2,697sqft8,508sqft lot', '4bed3bath2,410sqft6,380sqft lot', '2bed2bath1,015sqft', '2bed2.5bath1,968sqft0.24acre lot', '3bed2bath1,686sqft7,620sqft lot', '5bed5bath3,713sqft7,500sqft lot', '4bed3.5bath3,000sqft8,094sqft lot', '4bed3bath2,383sqft8,910sqft lot', '4bed2.5bath2,046sqft7,386sqft lot', '3bed2bath1,479sqft8,801sqft lot', '8bed3,120sqft6,749sqft lot', '10bed4,266sqft8,919sqft lot', '5bed4bath3,085sqft6,050sqft lot', '4bed4bath2,618sqft6,000sqft lot']\n"
     ]
    }
   ],
   "source": [
    "# problem in space - the no. of beds, bathroom and area data is joint together\n",
    "print(space)"
   ]
  },
  {
   "cell_type": "code",
   "execution_count": 9,
   "id": "0fc7f17c",
   "metadata": {},
   "outputs": [],
   "source": [
    "def regex_check_for_space(l, regex_string, original_string):\n",
    "    \"\"\"\n",
    "    Goal of the function was to mainly remove redundant code\n",
    "    \"\"\"\n",
    "    if regex_string is None:\n",
    "        l.append(original_string)\n",
    "    else:\n",
    "        l.append(regex_string.group())\n",
    "    return l"
   ]
  },
  {
   "cell_type": "code",
   "execution_count": 10,
   "id": "d2f9204e",
   "metadata": {},
   "outputs": [],
   "source": [
    "# cleaning the space data\n",
    "# we seperate the data\n",
    "\n",
    "# Regular Expression package\n",
    "import re\n",
    "\n",
    "beds = []\n",
    "bath = []\n",
    "area = []\n",
    "area_lot = []\n",
    "for i in space:\n",
    "    search_bed = re.search(pattern=\"[0-9]+bed\", string=i)\n",
    "    regex_check_for_space(beds, search_bed, i)\n",
    "        \n",
    "    search_bath = re.search(pattern=\"[0-9]+bath\", string=i)\n",
    "    regex_check_for_space(bath, search_bath, i)\n",
    "    \n",
    "    # area lot is checked before because both area and area lot have the sqft word in commmon\n",
    "    search_area_lot = re.search(pattern=\"[0-9]+sqft\\slot|[0-9]+,+[0-9]+sqft\\slot\", string=i) \n",
    "    regex_check_for_space(area_lot, search_area_lot, i)\n",
    "    \n",
    "    search_area = re.search(pattern=\"[0-9]+sqft|[0-9]+,+[0-9]+sqft\", string=i)\n",
    "    regex_check_for_space(area, search_area, i)"
   ]
  },
  {
   "cell_type": "code",
   "execution_count": 11,
   "id": "d9f72b7f",
   "metadata": {},
   "outputs": [
    {
     "name": "stdout",
     "output_type": "stream",
     "text": [
      "('$1,599,000', '736 Homer Ave, Palo Alto, CA 94301', '2bed1bath660sqft2,325sqft lot', '2bed', '1bath', '660sqft', '2,325sqft lot')\n",
      "('$1,098,000', '280 Waverley St, Palo Alto, CA 94301', '2bed1bath865sqft875sqft lot', '2bed', '1bath', '865sqft', '875sqft lot')\n",
      "('$1,380,000', '2585 Park Blvd Apt Z206, Palo Alto, CA 94306', '2bed2.5bath1,230sqft630sqft lot', '2bed', '5bath', '1,230sqft', '630sqft lot')\n",
      "('$1,790,000', '101 Alma St Apt 805, Palo Alto, CA 94301', '2bed2bath1,440sqft', '2bed', '2bath', '1,440sqft', '2bed2bath1,440sqft')\n",
      "('$1,795,000', '3109 Maddux Dr, Palo Alto, CA 94303', '3bed1bath1,004sqft7,748sqft lot', '3bed', '1bath', '1,004sqft', '7,748sqft lot')\n",
      "('$1,850,000', '685 High St Apt 5F, Palo Alto, CA 94301', '2bed3bath1,490sqft961sqft lot', '2bed', '3bath', '1,490sqft', '961sqft lot')\n",
      "('$949,000', '4250 El Camino Real Apt A307, Palo Alto, CA 94306', '2bed1bath943sqft', '2bed', '1bath', '943sqft', '2bed1bath943sqft')\n",
      "('$9,500,000', '2111 Barbara Dr, Palo Alto, CA 94303', '5bed5bath4,003sqft9,523sqft lot', '5bed', '5bath', '4,003sqft', '9,523sqft lot')\n",
      "('$3,100,000', '274 Tennessee Ln, Palo Alto, CA 94306', '4bed2bath1,554sqft6,292sqft lot', '4bed', '2bath', '1,554sqft', '6,292sqft lot')\n",
      "('$1,698,000', '1345 Alma St, Palo Alto, CA 94301', '2bed2.5bath1,295sqft630sqft lot', '2bed', '5bath', '1,295sqft', '630sqft lot')\n",
      "('$3,999,888', '485 Marion Ave, Palo Alto, CA 94301', '4bed2bath2,066sqft5,849sqft lot', '4bed', '2bath', '2,066sqft', '5,849sqft lot')\n",
      "('$875,000', '4250 El Camino Real Apt A102, Palo Alto, CA 94306', '1bed1bath885sqft', '1bed', '1bath', '885sqft', '1bed1bath885sqft')\n",
      "('$3,100,000', '4233 Los Palos Ave, Palo Alto, CA 94306', '3bed2bath1,710sqft9,400sqft lot', '3bed', '2bath', '1,710sqft', '9,400sqft lot')\n",
      "('$1,850,000', '685 High St Apt 2C, Palo Alto, CA 94301', '2bed2.5bath1,468sqft', '2bed', '5bath', '1,468sqft', '2bed2.5bath1,468sqft')\n",
      "('$1,399,000', '518 Everett Ave Apt A, Palo Alto, CA 94301', '2bed1bath1,091sqft', '2bed', '1bath', '1,091sqft', '2bed1bath1,091sqft')\n",
      "('$10,495,000', '27 Crescent Dr, Palo Alto, CA 94301', '4bed3.5+bath4,540sqft1.02acre lot', '4bed', '4bed3.5+bath4,540sqft1.02acre lot', '4,540sqft', '4bed3.5+bath4,540sqft1.02acre lot')\n",
      "('$9,280,000', '2001 Webster St, Palo Alto, CA 94301', '5bed4.5+bath5,042sqft8,755sqft lot', '5bed', '5bed4.5+bath5,042sqft8,755sqft lot', '5,042sqft', '8,755sqft lot')\n",
      "('$2,995,000', '3894 Corina Way, Palo Alto, CA 94303', '3bed2bath1,583sqft6,500sqft lot', '3bed', '2bath', '1,583sqft', '6,500sqft lot')\n",
      "('$1,099,000', '3073 Middlefield Rd Apt 101, Palo Alto, CA 94306', '1bed1bath876sqft', '1bed', '1bath', '876sqft', '1bed1bath876sqft')\n",
      "('$998,000', '777 San Antonio Rd Apt 4, Palo Alto, CA 94303', '2bed1bath946sqft', '2bed', '1bath', '946sqft', '2bed1bath946sqft')\n",
      "('$2,395,000', '678 Hawthorne Ave, Palo Alto, CA 94301', '2bed2bath773sqft2,000sqft lot', '2bed', '2bath', '773sqft', '2,000sqft lot')\n",
      "('$5,968,000', '919 Amarillo Ave, Palo Alto, CA 94303', '6bed5bath3,456sqft7,670sqft lot', '6bed', '5bath', '3,456sqft', '7,670sqft lot')\n",
      "('$2,998,000', '3661 Park Blvd, Palo Alto, CA 94306', '5bed4bath2,871sqft5,000sqft lot', '5bed', '4bath', '2,871sqft', '5,000sqft lot')\n",
      "('$4,488,000', '10 Crescent Dr, Palo Alto, CA 94301', '5bed4bath3,072sqft7,605sqft lot', '5bed', '4bath', '3,072sqft', '7,605sqft lot')\n",
      "('$4,988,888', '3424 Cowper Ct, Palo Alto, CA 94306', '6bed5.5bath3,853sqft6,382sqft lot', '6bed', '5bath', '3,853sqft', '6,382sqft lot')\n",
      "('$2,500,000', '971 Oregon Ave, Palo Alto, CA 94303', '4bed2bath1,639sqft7,084sqft lot', '4bed', '2bath', '1,639sqft', '7,084sqft lot')\n",
      "('$2,998,000', '47 Roosevelt Cir, Palo Alto, CA 94306', '4bed2bath1,664sqft6,504sqft lot', '4bed', '2bath', '1,664sqft', '6,504sqft lot')\n",
      "('$1,688,000', '767 Loma Verde Ave Unit B, Palo Alto, CA 94303', '3bed2.5bath1,494sqft', '3bed', '5bath', '1,494sqft', '3bed2.5bath1,494sqft')\n",
      "('$6,500,000', '606 Santa Rita Ave, Palo Alto, CA 94301', '4bed2.5bath2,697sqft8,508sqft lot', '4bed', '5bath', '2,697sqft', '8,508sqft lot')\n",
      "('$3,998,000', '872 Boyce Ave, Palo Alto, CA 94301', '4bed3bath2,410sqft6,380sqft lot', '4bed', '3bath', '2,410sqft', '6,380sqft lot')\n",
      "('$1,598,000', '436 High St Apt 105, Palo Alto, CA 94301', '2bed2bath1,015sqft', '2bed', '2bath', '1,015sqft', '2bed2bath1,015sqft')\n",
      "('$4,450,000', '530 Jefferson Dr, Palo Alto, CA 94303', '2bed2.5bath1,968sqft0.24acre lot', '2bed', '5bath', '1,968sqft', '2bed2.5bath1,968sqft0.24acre lot')\n",
      "('$2,988,000', '3760 El Centro St, Palo Alto, CA 94306', '3bed2bath1,686sqft7,620sqft lot', '3bed', '2bath', '1,686sqft', '7,620sqft lot')\n",
      "('$4,488,000', '118 Churchill Ave, Palo Alto, CA 94301', '5bed5bath3,713sqft7,500sqft lot', '5bed', '5bath', '3,713sqft', '7,500sqft lot')\n",
      "('$5,695,000', '776 Rosewood Dr, Palo Alto, CA 94303', '4bed3.5bath3,000sqft8,094sqft lot', '4bed', '5bath', '3,000sqft', '8,094sqft lot')\n",
      "('$3,488,000', '3349 Saint Michael Ct, Palo Alto, CA 94306', '4bed3bath2,383sqft8,910sqft lot', '4bed', '3bath', '2,383sqft', '8,910sqft lot')\n",
      "('$4,798,000', '2388 Waverley St, Palo Alto, CA 94301', '4bed2.5bath2,046sqft7,386sqft lot', '4bed', '5bath', '2,046sqft', '7,386sqft lot')\n",
      "('$2,900,000', '3421 Kenneth Dr, Palo Alto, CA 94303', '3bed2bath1,479sqft8,801sqft lot', '3bed', '2bath', '1,479sqft', '8,801sqft lot')\n",
      "('$3,200,000', '290 Curtner Ave, Palo Alto, CA 94306', '8bed3,120sqft6,749sqft lot', '8bed', '8bed3,120sqft6,749sqft lot', '3,120sqft', '6,749sqft lot')\n",
      "('$4,200,000', '4211 McKellar Ln, Palo Alto, CA 94306', '10bed4,266sqft8,919sqft lot', '10bed', '10bed4,266sqft8,919sqft lot', '4,266sqft', '8,919sqft lot')\n",
      "('$4,280,000', '1031 Embarcadero Rd, Palo Alto, CA 94303', '5bed4bath3,085sqft6,050sqft lot', '5bed', '4bath', '3,085sqft', '6,050sqft lot')\n",
      "('$4,050,000', '220 Matadero Ave, Palo Alto, CA 94306', '4bed4bath2,618sqft6,000sqft lot', '4bed', '4bath', '2,618sqft', '6,000sqft lot')\n"
     ]
    }
   ],
   "source": [
    "# printing them together\n",
    "for i in zip(price, address, space, beds, bath, area, area_lot):\n",
    "    print(i)"
   ]
  },
  {
   "cell_type": "code",
   "execution_count": 12,
   "id": "c5ea95b3",
   "metadata": {},
   "outputs": [
    {
     "name": "stdout",
     "output_type": "stream",
     "text": [
      "            0                                             1  \\\n",
      "0  $1,599,000            736 Homer Ave, Palo Alto, CA 94301   \n",
      "1  $1,098,000          280 Waverley St, Palo Alto, CA 94301   \n",
      "2  $1,380,000  2585 Park Blvd Apt Z206, Palo Alto, CA 94306   \n",
      "3  $1,790,000      101 Alma St Apt 805, Palo Alto, CA 94301   \n",
      "4  $1,795,000           3109 Maddux Dr, Palo Alto, CA 94303   \n",
      "\n",
      "                                 2     3      4          5                   6  \n",
      "0    2bed1bath660sqft2,325sqft lot  2bed  1bath    660sqft       2,325sqft lot  \n",
      "1      2bed1bath865sqft875sqft lot  2bed  1bath    865sqft         875sqft lot  \n",
      "2  2bed2.5bath1,230sqft630sqft lot  2bed  5bath  1,230sqft         630sqft lot  \n",
      "3               2bed2bath1,440sqft  2bed  2bath  1,440sqft  2bed2bath1,440sqft  \n",
      "4  3bed1bath1,004sqft7,748sqft lot  3bed  1bath  1,004sqft       7,748sqft lot  \n"
     ]
    }
   ],
   "source": [
    "# importing in pandas data frame\n",
    "import pandas as pd \n",
    "\n",
    "df = pd.DataFrame(list(zip(price, address, space, beds, bath, area, area_lot)))\n",
    "print(df.head())"
   ]
  },
  {
   "cell_type": "markdown",
   "id": "4b01a0ce",
   "metadata": {},
   "source": [
    "# Import to CSV"
   ]
  },
  {
   "cell_type": "code",
   "execution_count": 13,
   "id": "279978e7",
   "metadata": {},
   "outputs": [],
   "source": [
    "# import to csv\n",
    "df.to_csv('Palo Alto houses form realtor.csv', sep='\\t')"
   ]
  }
 ],
 "metadata": {
  "kernelspec": {
   "display_name": "Python 3",
   "language": "python",
   "name": "python3"
  },
  "language_info": {
   "codemirror_mode": {
    "name": "ipython",
    "version": 3
   },
   "file_extension": ".py",
   "mimetype": "text/x-python",
   "name": "python",
   "nbconvert_exporter": "python",
   "pygments_lexer": "ipython3",
   "version": "3.8.8"
  }
 },
 "nbformat": 4,
 "nbformat_minor": 5
}
